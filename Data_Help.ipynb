{
 "cells": [
  {
   "cell_type": "code",
   "execution_count": 1,
   "id": "8a570b53-7d43-4e4d-93ec-ab03b4677d37",
   "metadata": {},
   "outputs": [],
   "source": [
    "import numpy as np\n",
    "import pandas as pd\n",
    "import json"
   ]
  },
  {
   "cell_type": "code",
   "execution_count": 170,
   "id": "a60558c1-203b-4f29-bbd6-37e72b81aedc",
   "metadata": {},
   "outputs": [
    {
     "name": "stdout",
     "output_type": "stream",
     "text": [
      "8378\n"
     ]
    }
   ],
   "source": [
    "# DATASET: https://www.kaggle.com/datasets/somesh24/speeddating?select=speed-dating.csv\n",
    "# https://www.kaggle.com/code/michaelghaly/speeddating\n",
    "df = pd.read_csv('speed-dating.csv')\n",
    "print(len(df))\n",
    "df['index1'] = df.index"
   ]
  },
  {
   "cell_type": "code",
   "execution_count": 171,
   "id": "fd317269-db3e-475c-b67d-60949d416810",
   "metadata": {},
   "outputs": [
    {
     "name": "stdout",
     "output_type": "stream",
     "text": [
      "   index1  gender  d_age  samerace  pref_o_attractive  pref_o_intelligence  \\\n",
      "0       0  female      6         0               35.0                 20.0   \n",
      "1       1  female      1         0               60.0                  0.0   \n",
      "2       2  female      1         1               19.0                 19.0   \n",
      "3       3  female      2         0               30.0                 15.0   \n",
      "4       4  female      3         0               30.0                 20.0   \n",
      "\n",
      "   pref_o_funny  pref_o_shared_interests  attractive_o  intelligence_o  ...  \\\n",
      "0          20.0                      5.0           6.0             8.0  ...   \n",
      "1          40.0                      0.0           7.0            10.0  ...   \n",
      "2          18.0                     12.0          10.0            10.0  ...   \n",
      "3          40.0                      5.0           7.0             9.0  ...   \n",
      "4          10.0                     20.0           8.0             9.0  ...   \n",
      "\n",
      "   shared_interests_o  attractive_partner  intelligence_partner  \\\n",
      "0                 6.0                 6.0                   7.0   \n",
      "1                 5.0                 7.0                   7.0   \n",
      "2                10.0                 5.0                   9.0   \n",
      "3                 8.0                 7.0                   8.0   \n",
      "4                 7.0                 5.0                   7.0   \n",
      "\n",
      "   funny_partner  shared_interests_partner  interests_correlate  like  \\\n",
      "0            7.0                       5.0                 0.14   7.0   \n",
      "1            8.0                       6.0                 0.54   7.0   \n",
      "2            8.0                       7.0                 0.16   7.0   \n",
      "3            7.0                       8.0                 0.61   7.0   \n",
      "4            7.0                       6.0                 0.21   6.0   \n",
      "\n",
      "   guess_prob_liked  match                                     distinguisher2  \n",
      "0          6.000000      0  9.0-2.0-8.0-9.0-1.0-1.0-5.0-1.0-5.0-6.0-9.0-1....  \n",
      "1          5.000000      0  9.0-2.0-8.0-9.0-1.0-1.0-5.0-1.0-5.0-6.0-9.0-1....  \n",
      "2          5.207523      1  9.0-2.0-8.0-9.0-1.0-1.0-5.0-1.0-5.0-6.0-9.0-1....  \n",
      "3          6.000000      1  9.0-2.0-8.0-9.0-1.0-1.0-5.0-1.0-5.0-6.0-9.0-1....  \n",
      "4          6.000000      1  9.0-2.0-8.0-9.0-1.0-1.0-5.0-1.0-5.0-6.0-9.0-1....  \n",
      "\n",
      "[5 rows x 21 columns]\n"
     ]
    },
    {
     "name": "stderr",
     "output_type": "stream",
     "text": [
      "C:\\Users\\Vansh\\AppData\\Local\\Temp\\ipykernel_20836\\2240389859.py:7: SettingWithCopyWarning: \n",
      "A value is trying to be set on a copy of a slice from a DataFrame.\n",
      "Try using .loc[row_indexer,col_indexer] = value instead\n",
      "\n",
      "See the caveats in the documentation: https://pandas.pydata.org/pandas-docs/stable/user_guide/indexing.html#returning-a-view-versus-a-copy\n",
      "  df1['distinguisher2'] = df1['distinguisher'].apply(lambda x: '-'.join([str(i) for i in x]))\n"
     ]
    }
   ],
   "source": [
    "# df['distinguisher'] = str(df['sports']) + str(df['tvsports']) + str(df['exercise']) + str(df['dining']) + str(df['museums']) + str(df['art']) + str(df['hiking']) + str(df['gaming']) + str(df['clubbing']) + str(df['reading']) + str(df['tv']) + str(df['theater']) + str(df['movies']) + str(df['concerts']) + str(df['music']) + str(df['shopping']) + str(df['yoga'])\n",
    "df = df.fillna(df.mean())\n",
    "df['distinguisher'] = list(zip(df['sports'], df['tvsports'], df['exercise'], df['dining'], df['museums'], df['art'], df['hiking'], df['gaming'], df['clubbing'], df['reading'], df['tv'], df['theater'], df['movies'], df['concerts'], df['music'], df['shopping'], df['yoga']))\n",
    "# print(df.head())\n",
    "\n",
    "df1 = df[['index1', 'distinguisher', 'gender', 'd_age', 'samerace', 'pref_o_attractive', 'pref_o_intelligence', 'pref_o_funny', 'pref_o_shared_interests', 'attractive_o', 'intelligence_o', 'funny_o', 'shared_interests_o', 'attractive_partner', 'intelligence_partner', 'funny_partner', 'shared_interests_partner', 'interests_correlate', 'like', 'guess_prob_liked', 'match']]\n",
    "df1['distinguisher2'] = df1['distinguisher'].apply(lambda x: '-'.join([str(i) for i in x]))\n",
    "df1 = df1.drop('distinguisher', 1)\n",
    "print(df1.head())"
   ]
  },
  {
   "cell_type": "code",
   "execution_count": null,
   "id": "97e030be-b688-4ad8-8428-383908f9b89b",
   "metadata": {},
   "outputs": [],
   "source": [
    "# df1.head()\n",
    "dicct = dict(tuple(df1.groupby('distinguisher2')))\n",
    "\n",
    "# dicct = df1.groupby('distinguisher2').apply(list).to_dict()\n",
    "\n",
    "# dicct = df1.set_index('distinguisher2').T.to_dict('list')\n",
    "\n",
    "# json_object = json.dumps(dicct, indent = 4) \n",
    "\n",
    "# with open('dating_full.json', 'w') as fp:\n",
    "#     json.dump(dicct, fp)\n",
    "# dicct"
   ]
  },
  {
   "cell_type": "code",
   "execution_count": 174,
   "id": "1ed1a7c3-2e23-42d0-97b5-9c82e6fa8330",
   "metadata": {},
   "outputs": [
    {
     "name": "stdout",
     "output_type": "stream",
     "text": [
      "[ 5  6  7  8  9 10 14 15 16 18 19 20 21 22 79] [ 9 27  6  6 28 98 38 30 50 74 34 58 42 44  1]\n",
      "8378 545\n"
     ]
    }
   ],
   "source": [
    "lenths = []\n",
    "for user, partner in dicct.items():\n",
    "    lenths.append(len(dicct[user]))\n",
    "values, counts = np.unique(lenths, return_counts=True)\n",
    "print(values, counts)\n",
    "cnt = 0\n",
    "cnt2=0\n",
    "for x,y in zip(values, counts):\n",
    "    cnt = cnt + x*y\n",
    "    cnt2 = cnt2 + y\n",
    "print(cnt, cnt2)"
   ]
  },
  {
   "cell_type": "code",
   "execution_count": 157,
   "id": "50a7e330-3921-4b87-89c9-afc015000f52",
   "metadata": {},
   "outputs": [],
   "source": [
    "import pickle\n",
    "with open('dating_partial.pickle', 'wb') as handle:\n",
    "    pickle.dump(dicct, handle, protocol=pickle.HIGHEST_PROTOCOL)"
   ]
  },
  {
   "cell_type": "code",
   "execution_count": 180,
   "id": "b33bbccf-da36-43dc-a253-411a765de323",
   "metadata": {},
   "outputs": [],
   "source": [
    "# https://stackoverflow.com/questions/41998624/how-to-convert-pandas-dataframe-to-nested-dictionary\n",
    "\n",
    "df1 = df1.groupby('distinguisher2')[['index1', 'd_age', 'samerace', 'pref_o_attractive', 'pref_o_intelligence', 'pref_o_funny', 'pref_o_shared_interests', 'attractive_o', 'intelligence_o', 'funny_o', 'shared_interests_o', 'attractive_partner', 'intelligence_partner', 'funny_partner', 'shared_interests_partner', 'interests_correlate', 'like', 'guess_prob_liked', 'match']].apply(lambda x: x.set_index('index1').to_dict(orient='index')).to_dict()\n",
    "with open('dating_full.json', 'w') as fp:\n",
    "    json.dump(df1, fp)\n",
    "df1"
   ]
  },
  {
   "cell_type": "code",
   "execution_count": null,
   "id": "73623124-c0d4-48a9-ae0a-f98815322546",
   "metadata": {},
   "outputs": [],
   "source": []
  }
 ],
 "metadata": {
  "kernelspec": {
   "display_name": "Python 3 (ipykernel)",
   "language": "python",
   "name": "python3"
  },
  "language_info": {
   "codemirror_mode": {
    "name": "ipython",
    "version": 3
   },
   "file_extension": ".py",
   "mimetype": "text/x-python",
   "name": "python",
   "nbconvert_exporter": "python",
   "pygments_lexer": "ipython3",
   "version": "3.9.4"
  }
 },
 "nbformat": 4,
 "nbformat_minor": 5
}
